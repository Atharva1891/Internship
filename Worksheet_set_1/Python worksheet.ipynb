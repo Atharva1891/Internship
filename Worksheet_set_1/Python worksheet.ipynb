{
 "cells": [
  {
   "cell_type": "markdown",
   "id": "e6a52dd3",
   "metadata": {},
   "source": [
    "1: %\n",
    "2: 0\n",
    "3: 24\n",
    "4: 2\n",
    "5: 6\n",
    "6: the finally block will be executed no matter if the try block raises an error or not\n",
    "7: It is used to raise an exception\n",
    "8: in defining a generator\n",
    "9: _abc, abc2\n",
    "10: yield, raise\n"
   ]
  },
  {
   "cell_type": "markdown",
   "id": "b2f3fa10",
   "metadata": {},
   "source": [
    " 11. Write a python program to find the factorial of a number"
   ]
  },
  {
   "cell_type": "code",
   "execution_count": 1,
   "id": "3c042073",
   "metadata": {},
   "outputs": [],
   "source": [
    "def factorial_no(num):\n",
    "    factorial = 1\n",
    "    if num < 0:\n",
    "        print(\"Factorial not exist for negative number\")\n",
    "\n",
    "    elif num == 0:\n",
    "        print(\"Factorial of 0 is\",factorial)\n",
    "    \n",
    "    else:\n",
    "        for i in range(1, num+1):\n",
    "            factorial = factorial * i\n",
    "        print(\"Factorial of\",num,\"is\",factorial)\n",
    "        "
   ]
  },
  {
   "cell_type": "code",
   "execution_count": 2,
   "id": "d8349b6a",
   "metadata": {},
   "outputs": [
    {
     "name": "stdout",
     "output_type": "stream",
     "text": [
      "Factorial of 6 is 720\n"
     ]
    }
   ],
   "source": [
    "factorial_no(6)"
   ]
  },
  {
   "cell_type": "markdown",
   "id": "40a4d8d5",
   "metadata": {},
   "source": [
    "12. Write a python program to find whether a number is prime or composite."
   ]
  },
  {
   "cell_type": "code",
   "execution_count": 3,
   "id": "b0a49d63",
   "metadata": {},
   "outputs": [],
   "source": [
    "def prime_no(num):\n",
    "    if num > 1:\n",
    "        for i in range(2, num):\n",
    "            if num%i == 0:\n",
    "                print(num,\"is a Composite Number\")\n",
    "                break\n",
    "        else:\n",
    "            print(num,\"is a Prime Number\")\n",
    "\n",
    "    elif num == 0 or 1:\n",
    "        print(num,\"is not a Prime number or not a Composite number\")\n",
    "    \n",
    "    else:\n",
    "        print(num,\"is a Composite Number\")\n",
    "    "
   ]
  },
  {
   "cell_type": "code",
   "execution_count": 4,
   "id": "49e4fee7",
   "metadata": {},
   "outputs": [
    {
     "name": "stdout",
     "output_type": "stream",
     "text": [
      "47 is a Prime Number\n"
     ]
    }
   ],
   "source": [
    "prime_no(47)"
   ]
  },
  {
   "cell_type": "markdown",
   "id": "987ddf25",
   "metadata": {},
   "source": [
    "13. Write a python program to check whether a given string is palindrome or not."
   ]
  },
  {
   "cell_type": "code",
   "execution_count": 5,
   "id": "251dad46",
   "metadata": {},
   "outputs": [],
   "source": [
    "def palindrome(str1):\n",
    "    rev_str = str1[::-1]\n",
    "    if str1 == rev_str:\n",
    "        print(string,\"is Palindrome\")\n",
    "    else:\n",
    "        print(str1,\"is Not Palindrome\")"
   ]
  },
  {
   "cell_type": "code",
   "execution_count": 6,
   "id": "61ba60ca",
   "metadata": {},
   "outputs": [
    {
     "name": "stdout",
     "output_type": "stream",
     "text": [
      "palindrome is Not Palindrome\n"
     ]
    }
   ],
   "source": [
    "palindrome(\"palindrome\")"
   ]
  },
  {
   "cell_type": "markdown",
   "id": "e73d06a8",
   "metadata": {},
   "source": [
    "14. Write a Python program to get the third side of right-angled triangle from two given sides."
   ]
  },
  {
   "cell_type": "code",
   "execution_count": 7,
   "id": "57b61766",
   "metadata": {},
   "outputs": [],
   "source": [
    "# Pythagoras Theorem : (ac)2 = (ab)2 + (bc)2"
   ]
  },
  {
   "cell_type": "code",
   "execution_count": 8,
   "id": "78bf2795",
   "metadata": {},
   "outputs": [],
   "source": [
    "def side_3(ab,bc,ac):\n",
    "    if ab == str(ab):\n",
    "        return(\"AB is\",((ac**2)-(bc**2))**0.5)\n",
    "    elif bc == str(bc):\n",
    "        return(\"BC is\",((ac**2)-(ab**2))**0.5)\n",
    "    elif ac == str(ac):\n",
    "        return(\"AC is\",((ab**2)+(bc**2))**0.5)"
   ]
  },
  {
   "cell_type": "code",
   "execution_count": 9,
   "id": "29afd8e6",
   "metadata": {},
   "outputs": [
    {
     "data": {
      "text/plain": [
       "('AB is', 3.0)"
      ]
     },
     "execution_count": 9,
     "metadata": {},
     "output_type": "execute_result"
    }
   ],
   "source": [
    "side_3(\"x\",4,5)"
   ]
  },
  {
   "cell_type": "code",
   "execution_count": 10,
   "id": "4a16ce19",
   "metadata": {},
   "outputs": [
    {
     "data": {
      "text/plain": [
       "('AC is', 5.0)"
      ]
     },
     "execution_count": 10,
     "metadata": {},
     "output_type": "execute_result"
    }
   ],
   "source": [
    "side_3(3,4,\"x\")"
   ]
  },
  {
   "cell_type": "code",
   "execution_count": 11,
   "id": "ebbfd9c5",
   "metadata": {},
   "outputs": [
    {
     "data": {
      "text/plain": [
       "('BC is', 3.0)"
      ]
     },
     "execution_count": 11,
     "metadata": {},
     "output_type": "execute_result"
    }
   ],
   "source": [
    "side_3(4,'x',5)"
   ]
  },
  {
   "cell_type": "markdown",
   "id": "de6248b1",
   "metadata": {},
   "source": [
    "15. Write a python program to print the frequency of each of the characters present in a given string"
   ]
  },
  {
   "cell_type": "code",
   "execution_count": 12,
   "id": "e0ffeda0",
   "metadata": {},
   "outputs": [],
   "source": [
    "def freq_cot(str1):\n",
    "    char_freq = {}\n",
    "    for i in str1:\n",
    "        if i in char_freq:\n",
    "            char_freq[i] += 1\n",
    "        else:\n",
    "            char_freq[i] = 1\n",
    "    return char_freq"
   ]
  },
  {
   "cell_type": "code",
   "execution_count": 13,
   "id": "621a7429",
   "metadata": {},
   "outputs": [
    {
     "data": {
      "text/plain": [
       "{'f': 3,\n",
       " 'r': 3,\n",
       " 'e': 5,\n",
       " 'q': 1,\n",
       " 'u': 1,\n",
       " 'n': 1,\n",
       " 'c': 4,\n",
       " 'y': 1,\n",
       " ' ': 5,\n",
       " 'o': 2,\n",
       " 'a': 3,\n",
       " 'h': 3,\n",
       " 't': 2,\n",
       " 's': 1}"
      ]
     },
     "execution_count": 13,
     "metadata": {},
     "output_type": "execute_result"
    }
   ],
   "source": [
    "freq_cot(\"frequency of each of the characters\")"
   ]
  },
  {
   "cell_type": "code",
   "execution_count": null,
   "id": "d2cc23e6",
   "metadata": {},
   "outputs": [],
   "source": []
  }
 ],
 "metadata": {
  "kernelspec": {
   "display_name": "Python 3 (ipykernel)",
   "language": "python",
   "name": "python3"
  },
  "language_info": {
   "codemirror_mode": {
    "name": "ipython",
    "version": 3
   },
   "file_extension": ".py",
   "mimetype": "text/x-python",
   "name": "python",
   "nbconvert_exporter": "python",
   "pygments_lexer": "ipython3",
   "version": "3.9.12"
  }
 },
 "nbformat": 4,
 "nbformat_minor": 5
}
